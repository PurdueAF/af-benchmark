{
 "cells": [
  {
   "cell_type": "code",
   "execution_count": null,
   "id": "966d766a-aed9-46ac-a61a-3e2a26fd04f1",
   "metadata": {},
   "outputs": [],
   "source": [
    "from dask_gateway import Gateway\n",
    "gateway = Gateway()\n",
    "\n",
    "cluster = gateway.new_cluster(\n",
    "    conda_env = \"/depot/cms/kernels/python3\",\n",
    "    queue = \"cms\",\n",
    "    worker_cores = 1,\n",
    "    worker_memory = 4,\n",
    "    env = {\n",
    "        \"PYTHONPATH\": \"/depot/cms/users/dkondra/af-benchmark/af_benchmark/\",\n",
    "        \"X509_USER_PROXY\": \"/depot/cms/users/dkondra/x509up_u616617\",\n",
    "    },\n",
    "    cluster_start_timeout = 60,\n",
    ")\n",
    "\n",
    "cluster"
   ]
  },
  {
   "cell_type": "code",
   "execution_count": null,
   "id": "069b503a-68c9-4705-b1eb-d7793f2e701d",
   "metadata": {},
   "outputs": [],
   "source": []
  },
  {
   "cell_type": "code",
   "execution_count": null,
   "id": "079f76e8-98d3-4fac-b2ae-f9b764cb4548",
   "metadata": {},
   "outputs": [],
   "source": [
    "# delete all clusters\n",
    "for cluster_info in gateway.list_clusters():\n",
    "    gateway.connect(cluster_info.name).shutdown()"
   ]
  },
  {
   "cell_type": "code",
   "execution_count": null,
   "id": "6100fd02-30bb-41be-a7e0-0f22d533b45b",
   "metadata": {},
   "outputs": [],
   "source": []
  }
 ],
 "metadata": {
  "kernelspec": {
   "display_name": "Python3 kernel (default)",
   "language": "python",
   "name": "python3"
  },
  "language_info": {
   "codemirror_mode": {
    "name": "ipython",
    "version": 3
   },
   "file_extension": ".py",
   "mimetype": "text/x-python",
   "name": "python",
   "nbconvert_exporter": "python",
   "pygments_lexer": "ipython3",
   "version": "3.10.10"
  },
  "widgets": {
   "application/vnd.jupyter.widget-state+json": {
    "state": {},
    "version_major": 2,
    "version_minor": 0
   }
  }
 },
 "nbformat": 4,
 "nbformat_minor": 5
}
