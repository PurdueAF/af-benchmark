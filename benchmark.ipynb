{
 "cells": [
  {
   "cell_type": "code",
   "execution_count": null,
   "id": "38c49fa3-5a71-422c-826f-61447b1d1d54",
   "metadata": {
    "tags": []
   },
   "outputs": [],
   "source": [
    "from dask_gateway import Gateway\n",
    "from utils import get_list_of_files, get_columns, process, run_benchmark\n",
    "from datasets.singlemuon_at_purdue import datasets"
   ]
  },
  {
   "cell_type": "code",
   "execution_count": null,
   "id": "73dba587-1c2c-4783-8e9a-1207d9f357b6",
   "metadata": {
    "tags": []
   },
   "outputs": [],
   "source": [
    "# get all ROOT files in datasets\n",
    "files = get_list_of_files(datasets)\n",
    "print(len(files), \"files\")"
   ]
  },
  {
   "cell_type": "code",
   "execution_count": null,
   "id": "af180fe8-b241-4d74-a4d8-ca6969eba294",
   "metadata": {
    "tags": []
   },
   "outputs": [],
   "source": [
    "# default: all columns\n",
    "# columns = get_columns(files[0])\n",
    "# print(len(columns), \"columns\")\n",
    "\n",
    "# how to get a given fraction of columns:\n",
    "# columns = get_columns(files[0], fraction=0.02405)\n",
    "# print(len(columns), \"columns\")\n",
    "\n",
    "# how to get a given number of columns:\n",
    "columns = get_columns(files[0], n_columns=5)\n",
    "print(len(columns), \"columns\")"
   ]
  },
  {
   "cell_type": "code",
   "execution_count": null,
   "id": "9ee7fa55-8366-4489-bf99-07d960dad627",
   "metadata": {
    "tags": []
   },
   "outputs": [],
   "source": [
    "# Sequential processing\n",
    "run_benchmark(process, files, columns)"
   ]
  },
  {
   "cell_type": "code",
   "execution_count": null,
   "id": "929c499d-5c83-472f-8a28-0d143f1d679e",
   "metadata": {},
   "outputs": [],
   "source": [
    "gateway = Gateway()\n",
    "cluster = gateway.new_cluster(\n",
    "    queue=\"cms-express\",\n",
    "    env={\n",
    "        \"PYTHONPATH\": \"/depot/cms/private/users/dkondra/af-benchmark\",\n",
    "        \"X509_USER_PROXY\": \"/depot/cms/private/users/dkondra/x509up_u616617\"\n",
    "    }\n",
    ")\n",
    "cluster.scale(100)\n",
    "cluster"
   ]
  },
  {
   "cell_type": "code",
   "execution_count": null,
   "id": "a87576fe-1dc8-4d1c-98f8-f3fe9f6896f1",
   "metadata": {},
   "outputs": [],
   "source": [
    "# Process via Dask Gateway cluster\n",
    "run_benchmark(process, files, columns, parallel=True, client=cluster.get_client())"
   ]
  },
  {
   "cell_type": "code",
   "execution_count": null,
   "id": "7ef5eac0-8d3c-45b4-ac5a-c0a182d6b9c1",
   "metadata": {
    "tags": []
   },
   "outputs": [],
   "source": [
    "cluster.shutdown()"
   ]
  },
  {
   "cell_type": "code",
   "execution_count": null,
   "id": "9d2ed48f-1e74-4f37-9ef0-f531356d4913",
   "metadata": {},
   "outputs": [],
   "source": [
    "gateway = Gateway()\n",
    "# List existing clusters\n",
    "gateway.list_clusters()\n",
    "# options = gateway.cluster_options()\n",
    "# options"
   ]
  },
  {
   "cell_type": "code",
   "execution_count": null,
   "id": "1ca0c425-9c16-4014-8f8a-1ba9161154f4",
   "metadata": {},
   "outputs": [],
   "source": [
    "name = \"d6e87428c2f04da2964690275284afb3\"\n",
    "cluster = gateway.connect(name)\n",
    "client = gateway.connect(name).get_client()\n",
    "cluster"
   ]
  },
  {
   "cell_type": "code",
   "execution_count": null,
   "id": "1bb13d7d-c21f-4b0f-842c-4a0fad305ac7",
   "metadata": {},
   "outputs": [],
   "source": [
    "\n",
    "\n"
   ]
  }
 ],
 "metadata": {
  "kernelspec": {
   "display_name": "Python3 kernel (default)",
   "language": "python",
   "name": "python3"
  },
  "language_info": {
   "codemirror_mode": {
    "name": "ipython",
    "version": 3
   },
   "file_extension": ".py",
   "mimetype": "text/x-python",
   "name": "python",
   "nbconvert_exporter": "python",
   "pygments_lexer": "ipython3",
   "version": "3.10.10"
  },
  "widgets": {
   "application/vnd.jupyter.widget-state+json": {
    "state": {},
    "version_major": 2,
    "version_minor": 0
   }
  }
 },
 "nbformat": 4,
 "nbformat_minor": 5
}
