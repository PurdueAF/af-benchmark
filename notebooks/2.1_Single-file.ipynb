{
 "cells": [
  {
   "cell_type": "markdown",
   "id": "77ce1931-6e42-4aab-a8e8-492720d0c162",
   "metadata": {},
   "source": [
    "In this benchmark, we try to achieve the highest throughput (MB/s) while reading a single ROOT file."
   ]
  },
  {
   "cell_type": "code",
   "execution_count": 1,
   "id": "48f3f61b-839b-4ae2-9635-3b81e805ca67",
   "metadata": {},
   "outputs": [],
   "source": [
    "import os, sys\n",
    "sys.path.append(os.getcwd()+\"/../\")\n",
    "sys.path.append(os.getcwd()+\"/../src\")\n",
    "from scenarios.generator_2p1 import generate_configs\n",
    "from src.benchmark import Benchmark, run_benchmark"
   ]
  },
  {
   "cell_type": "code",
   "execution_count": 2,
   "id": "b15f6911-00e5-4d23-8c20-f39b5223335d",
   "metadata": {
    "collapsed": true,
    "jupyter": {
     "outputs_hidden": true
    }
   },
   "outputs": [
    {
     "name": "stdout",
     "output_type": "stream",
     "text": [
      "Directory ./configs_2.1 already exists, will clean all YAML files from it.\n",
      "Saved 6 config files to ./configs_2.1\n"
     ]
    },
    {
     "name": "stderr",
     "output_type": "stream",
     "text": [
      " 17%|█▋        | 1/6 [00:22<01:53, 22.66s/it]/depot/cms/kernels/python3/lib/python3.10/site-packages/distributed/node.py:182: UserWarning: Port 8787 is already in use.\n",
      "Perhaps you already have a cluster running?\n",
      "Hosting the HTTP server on port 35581 instead\n",
      "  warnings.warn(\n",
      " 50%|█████     | 3/6 [01:13<01:08, 22.93s/it]/depot/cms/kernels/python3/lib/python3.10/site-packages/distributed/node.py:182: UserWarning: Port 8787 is already in use.\n",
      "Perhaps you already have a cluster running?\n",
      "Hosting the HTTP server on port 45511 instead\n",
      "  warnings.warn(\n",
      " 67%|██████▋   | 4/6 [02:37<01:34, 47.12s/it]2024-03-28 16:15:45,188 - distributed.utils_perf - WARNING - full garbage collections took 10% CPU time recently (threshold: 10%)\n",
      "2024-03-28 16:15:46,080 - distributed.utils_perf - WARNING - full garbage collections took 10% CPU time recently (threshold: 10%)\n",
      "2024-03-28 16:15:48,190 - distributed.utils_perf - WARNING - full garbage collections took 10% CPU time recently (threshold: 10%)\n",
      " 83%|████████▎ | 5/6 [05:20<01:28, 88.75s/it]/depot/cms/kernels/python3/lib/python3.10/site-packages/distributed/node.py:182: UserWarning: Port 8787 is already in use.\n",
      "Perhaps you already have a cluster running?\n",
      "Hosting the HTTP server on port 38981 instead\n",
      "  warnings.warn(\n",
      "100%|██████████| 6/6 [05:39<00:00, 56.63s/it]\n"
     ]
    }
   ],
   "source": [
    "# warning: all YAML files will be deleted fron this directory before proceeding\n",
    "config_path = \"./configs_2.1\"\n",
    "\n",
    "generate_configs(config_path)\n",
    "report = run_benchmark(config_path)"
   ]
  },
  {
   "cell_type": "code",
   "execution_count": 3,
   "id": "8a6570bf-2147-45ee-8bbd-0af5408f2ac2",
   "metadata": {},
   "outputs": [
    {
     "data": {
      "text/html": [
       "<div>\n",
       "<style scoped>\n",
       "    .dataframe tbody tr th:only-of-type {\n",
       "        vertical-align: middle;\n",
       "    }\n",
       "\n",
       "    .dataframe tbody tr th {\n",
       "        vertical-align: top;\n",
       "    }\n",
       "\n",
       "    .dataframe thead th {\n",
       "        text-align: right;\n",
       "    }\n",
       "</style>\n",
       "<table border=\"1\" class=\"dataframe\">\n",
       "  <thead>\n",
       "    <tr style=\"text-align: right;\">\n",
       "      <th></th>\n",
       "      <th>n_files</th>\n",
       "      <th>n_columns_read</th>\n",
       "      <th>n_events</th>\n",
       "      <th>loaded_columns</th>\n",
       "      <th>worker_operation_time</th>\n",
       "      <th>executor</th>\n",
       "      <th>n_workers</th>\n",
       "      <th>compressed_bytes</th>\n",
       "      <th>uncompressed_bytes</th>\n",
       "      <th>run_processor</th>\n",
       "      <th>run</th>\n",
       "      <th>column_setup</th>\n",
       "    </tr>\n",
       "  </thead>\n",
       "  <tbody>\n",
       "    <tr>\n",
       "      <th>0</th>\n",
       "      <td>1</td>\n",
       "      <td>50</td>\n",
       "      <td>154321550</td>\n",
       "      <td>True</td>\n",
       "      <td>0</td>\n",
       "      <td>dask-local</td>\n",
       "      <td>4</td>\n",
       "      <td>265594188</td>\n",
       "      <td>1129031467</td>\n",
       "      <td>19.436925</td>\n",
       "      <td>20.763812</td>\n",
       "      <td>muons_only</td>\n",
       "    </tr>\n",
       "    <tr>\n",
       "      <th>1</th>\n",
       "      <td>1</td>\n",
       "      <td>50</td>\n",
       "      <td>154321550</td>\n",
       "      <td>True</td>\n",
       "      <td>0</td>\n",
       "      <td>dask-local</td>\n",
       "      <td>2</td>\n",
       "      <td>265594188</td>\n",
       "      <td>1129031467</td>\n",
       "      <td>36.557856</td>\n",
       "      <td>37.909583</td>\n",
       "      <td>muons_only</td>\n",
       "    </tr>\n",
       "    <tr>\n",
       "      <th>2</th>\n",
       "      <td>1</td>\n",
       "      <td>20</td>\n",
       "      <td>61728620</td>\n",
       "      <td>True</td>\n",
       "      <td>0</td>\n",
       "      <td>dask-local</td>\n",
       "      <td>4</td>\n",
       "      <td>175488912</td>\n",
       "      <td>521753090</td>\n",
       "      <td>8.892793</td>\n",
       "      <td>10.466951</td>\n",
       "      <td>hmm_columns</td>\n",
       "    </tr>\n",
       "    <tr>\n",
       "      <th>3</th>\n",
       "      <td>1</td>\n",
       "      <td>233</td>\n",
       "      <td>719138423</td>\n",
       "      <td>True</td>\n",
       "      <td>0</td>\n",
       "      <td>dask-local</td>\n",
       "      <td>4</td>\n",
       "      <td>1152109223</td>\n",
       "      <td>5636057591</td>\n",
       "      <td>81.699052</td>\n",
       "      <td>83.085135</td>\n",
       "      <td>main_collections</td>\n",
       "    </tr>\n",
       "    <tr>\n",
       "      <th>4</th>\n",
       "      <td>1</td>\n",
       "      <td>233</td>\n",
       "      <td>719138423</td>\n",
       "      <td>True</td>\n",
       "      <td>0</td>\n",
       "      <td>dask-local</td>\n",
       "      <td>2</td>\n",
       "      <td>1152109223</td>\n",
       "      <td>5636057591</td>\n",
       "      <td>159.729559</td>\n",
       "      <td>161.101451</td>\n",
       "      <td>main_collections</td>\n",
       "    </tr>\n",
       "    <tr>\n",
       "      <th>5</th>\n",
       "      <td>1</td>\n",
       "      <td>20</td>\n",
       "      <td>61728620</td>\n",
       "      <td>True</td>\n",
       "      <td>0</td>\n",
       "      <td>dask-local</td>\n",
       "      <td>2</td>\n",
       "      <td>175488912</td>\n",
       "      <td>521753090</td>\n",
       "      <td>16.674703</td>\n",
       "      <td>18.145440</td>\n",
       "      <td>hmm_columns</td>\n",
       "    </tr>\n",
       "  </tbody>\n",
       "</table>\n",
       "</div>"
      ],
      "text/plain": [
       "   n_files  n_columns_read   n_events  loaded_columns  worker_operation_time  \\\n",
       "0        1              50  154321550            True                      0   \n",
       "1        1              50  154321550            True                      0   \n",
       "2        1              20   61728620            True                      0   \n",
       "3        1             233  719138423            True                      0   \n",
       "4        1             233  719138423            True                      0   \n",
       "5        1              20   61728620            True                      0   \n",
       "\n",
       "     executor  n_workers  compressed_bytes  uncompressed_bytes  run_processor  \\\n",
       "0  dask-local          4         265594188          1129031467      19.436925   \n",
       "1  dask-local          2         265594188          1129031467      36.557856   \n",
       "2  dask-local          4         175488912           521753090       8.892793   \n",
       "3  dask-local          4        1152109223          5636057591      81.699052   \n",
       "4  dask-local          2        1152109223          5636057591     159.729559   \n",
       "5  dask-local          2         175488912           521753090      16.674703   \n",
       "\n",
       "          run      column_setup  \n",
       "0   20.763812        muons_only  \n",
       "1   37.909583        muons_only  \n",
       "2   10.466951       hmm_columns  \n",
       "3   83.085135  main_collections  \n",
       "4  161.101451  main_collections  \n",
       "5   18.145440       hmm_columns  "
      ]
     },
     "execution_count": 3,
     "metadata": {},
     "output_type": "execute_result"
    }
   ],
   "source": [
    "report"
   ]
  },
  {
   "cell_type": "code",
   "execution_count": 5,
   "id": "c0a788da-d160-4c81-95ea-150ef4d9a85e",
   "metadata": {},
   "outputs": [
    {
     "data": {
      "image/png": "[encoded data removed]",
      "text/plain": [
       "<Figure size 800x600 with 1 Axes>"
      ]
     },
     "metadata": {},
     "output_type": "display_data"
    }
   ],
   "source": [
    "import matplotlib.pyplot as plt\n",
    "\n",
    "report[\"MB/s (compressed)\"] = report.compressed_bytes/report.run_processor/(1024*1024)\n",
    "\n",
    "report_by_column_setup = report.groupby('column_setup')\n",
    "\n",
    "plt.figure(figsize=(8, 6))\n",
    "for col_setup, group in report_by_column_setup:\n",
    "    plt.plot(group.n_workers, group[\"MB/s (compressed)\"], label=col_setup)\n",
    "\n",
    "plt.xlabel('# workers')\n",
    "plt.ylabel('MB/s')\n",
    "plt.legend()\n",
    "plt.xlim(0, report.n_workers.max()+5)\n",
    "plt.ylim(0, report['MB/s (compressed)'].max() + 5)\n",
    "plt.show()"
   ]
  },
  {
   "cell_type": "code",
   "execution_count": null,
   "id": "3ff7179c-b407-47b6-b8d0-2bb25ed0649b",
   "metadata": {},
   "outputs": [],
   "source": []
  }
 ],
 "metadata": {
  "kernelspec": {
   "display_name": "Python3 kernel (default)",
   "language": "python",
   "name": "python3"
  },
  "language_info": {
   "codemirror_mode": {
    "name": "ipython",
    "version": 3
   },
   "file_extension": ".py",
   "mimetype": "text/x-python",
   "name": "python",
   "nbconvert_exporter": "python",
   "pygments_lexer": "ipython3",
   "version": "3.10.10"
  },
  "widgets": {
   "application/vnd.jupyter.widget-state+json": {
    "state": {},
    "version_major": 2,
    "version_minor": 0
   }
  }
 },
 "nbformat": 4,
 "nbformat_minor": 5
}
