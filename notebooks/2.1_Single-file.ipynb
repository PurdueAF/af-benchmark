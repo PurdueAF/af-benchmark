{
 "cells": [
  {
   "cell_type": "markdown",
   "id": "77ce1931-6e42-4aab-a8e8-492720d0c162",
   "metadata": {},
   "source": [
    "In this benchmark, we try to achieve the highest throughput (MB/s) while reading a single ROOT file."
   ]
  },
  {
   "cell_type": "code",
   "execution_count": null,
   "id": "48f3f61b-839b-4ae2-9635-3b81e805ca67",
   "metadata": {},
   "outputs": [],
   "source": [
    "import os, sys\n",
    "sys.path.append(os.getcwd()+\"/../\")\n",
    "import copy\n",
    "import yaml\n",
    "from src.utils import recreate_dir\n",
    "from src.benchmark import Benchmark, run_benchmark"
   ]
  },
  {
   "cell_type": "code",
   "execution_count": null,
   "id": "99d4efd9-9672-4590-ac41-a6013b3d8e22",
   "metadata": {},
   "outputs": [],
   "source": [
    "default_config = {\n",
    "    'data-access': {\n",
    "        'mode': 'explicit-files',\n",
    "        'files': []\n",
    "    },\n",
    "    'executor': {\n",
    "        'backend': 'sequential',\n",
    "        'n_workers': 1\n",
    "    },\n",
    "    'processor': {\n",
    "        'parallelize_over': 'files',\n",
    "        'columns': {},\n",
    "        'load_columns_into_memory': True,\n",
    "        'worker_operation_time': 0\n",
    "    }\n",
    "}"
   ]
  },
  {
   "cell_type": "code",
   "execution_count": null,
   "id": "87efdb93-f8c3-4fba-953a-5fa6e2bae407",
   "metadata": {},
   "outputs": [],
   "source": [
    "file_name = \"90322FC2-4027-0E47-92E4-22307EC8EAD2.root\"\n",
    "file_locations = {\n",
    "    \"depot\": \"/depot/cms/users/dkondra/\",\n",
    "    # \"work\": \"/work/projects/purdue-af/\",\n",
    "    # \"eos_fuse\": \"/eos/purdue/store/data/Run2016B/SingleMuon/NANOAOD/02Apr2020_ver2-v1/20000/\",\n",
    "    # \"xrootd\": \"root://eos.cms.rcac.purdue.edu:1094//store/data/Run2016B/SingleMuon/NANOAOD/02Apr2020_ver2-v1/20000/\",\n",
    "    # \"xcache\": \"root://cms-xcache.rcac.purdue.edu:1094//store/data/Run2016B/SingleMuon/NANOAOD/02Apr2020_ver2-v1/20000/\"\n",
    "}\n",
    "\n",
    "column_presets = {\n",
    "    # \"100pct\": {\n",
    "    #     # the bechmark will limit this to actual total number of columns\n",
    "    #     \"method\": \"n_columns\",\n",
    "    #     \"values\": 100000\n",
    "    # },\n",
    "    \"50pct\": {\n",
    "        \"method\": \"collections\",\n",
    "        \"values\": [\"Jet\", \"Photon\", \"Tau\", \"Electron\", \"Muon\"]\n",
    "    },\n",
    "    # \"10pct\": {\n",
    "    #     \"method\": \"collections\",\n",
    "    #     \"values\": [\"Muon\"]\n",
    "    # },\n",
    "    # \"5pct\": {\n",
    "    #     \"method\": \"column_list\",\n",
    "    #     \"values\": [\n",
    "    #         \"run\", \"luminosityBlock\", \"HLT_IsoMu24\", \"PV_npvsGood\", \"fixedGridRhoFastjetAll\",\n",
    "    #         \"Muon_pt\", \"Muon_eta\", \"Muon_phi\", \"Muon_mass\", \"Muon_charge\", \"Muon_pfRelIso04_all\", \"Muon_mediumId\", \"Muon_ptErr\",\n",
    "    #         \"Electron_pt\", \"Electron_eta\", \"Electron_mvaFall17V2Iso_WP90\",\n",
    "    #         \"Jet_pt\", \"Jet_eta\", \"Jet_phi\", \"Jet_mass\",\n",
    "    #     ]\n",
    "    # }\n",
    "}"
   ]
  },
  {
   "cell_type": "code",
   "execution_count": null,
   "id": "b437563d-da50-4bda-829b-eeb4218b03f2",
   "metadata": {},
   "outputs": [],
   "source": [
    "def generate_configs(save_dir=\"./\"):\n",
    "    recreate_dir(save_dir)\n",
    "\n",
    "    iconf = 0\n",
    "\n",
    "    for f_label, file_loc in file_locations.items():\n",
    "        for c_label, column_setup in column_presets.items():\n",
    "            config = copy.deepcopy(default_config)\n",
    "\n",
    "            config[\"data-access\"][\"files\"] = [f\"{file_loc}/{file_name}\"]\n",
    "            config[\"processor\"][\"columns\"] = column_setup\n",
    "\n",
    "            # Custom labels to save to output dataframe\n",
    "            config[\"custom_labels\"] = {\n",
    "                \"file_location\": f_label,\n",
    "                \"column_setup\": c_label\n",
    "            }\n",
    "\n",
    "            config_name = f'config2p1_{iconf}_{f_label}_{c_label}.yaml'\n",
    "            \n",
    "            with open(f'{save_dir}/{config_name}', 'w') as file:\n",
    "                yaml.dump(config, file, default_flow_style=False)\n",
    "\n",
    "            iconf += 1\n",
    "\n",
    "    print(f'Saved {iconf} config files to {save_dir}')"
   ]
  },
  {
   "cell_type": "code",
   "execution_count": null,
   "id": "574dea64-da4b-4fba-b610-1dfc734ec077",
   "metadata": {},
   "outputs": [],
   "source": [
    "# warning: all YAML files will be deleted fron this directory before proceeding\n",
    "config_path = \"./configs_2.1\""
   ]
  },
  {
   "cell_type": "code",
   "execution_count": null,
   "id": "8633cf12-d9d9-4201-8969-e40868ee2e65",
   "metadata": {},
   "outputs": [],
   "source": [
    "generate_configs(config_path)"
   ]
  },
  {
   "cell_type": "code",
   "execution_count": null,
   "id": "d0ed6b4f-1ce8-4731-87e7-57da3b4abced",
   "metadata": {},
   "outputs": [],
   "source": [
    "# report = run_benchmark(config_path)\n",
    "import cProfile\n",
    "cProfile.run('run_benchmark(config_path)', 'profile_output.prof')"
   ]
  },
  {
   "cell_type": "code",
   "execution_count": null,
   "id": "c0a788da-d160-4c81-95ea-150ef4d9a85e",
   "metadata": {},
   "outputs": [],
   "source": [
    "import matplotlib.pyplot as plt\n",
    "\n",
    "report[\"MB/s (compressed)\"] = report.compressed_bytes/report.run_processor/(1024*1024)\n",
    "\n",
    "report_by_column_setup = report.groupby('column_setup')\n",
    "\n",
    "plt.figure(figsize=(8, 6))\n",
    "for col_setup, group in report_by_column_setup:\n",
    "    plt.plot(group.n_workers, group[\"MB/s (compressed)\"], label=col_setup)\n",
    "\n",
    "plt.xlabel('# workers')\n",
    "plt.ylabel('MB/s')\n",
    "plt.legend()\n",
    "plt.xlim(0, report.n_workers.max()+5)\n",
    "plt.ylim(0, report['MB/s (compressed)'].max() + 5)\n",
    "plt.show()"
   ]
  },
  {
   "cell_type": "code",
   "execution_count": null,
   "id": "3ff7179c-b407-47b6-b8d0-2bb25ed0649b",
   "metadata": {},
   "outputs": [],
   "source": [
    "report[\"event_rate\"] = report.n_events / report.run_processor / report.n_columns_read\n",
    "report[\"data_rate_comp\"] = report.compressed_bytes / report.run_processor\n",
    "report[\"data_rate_uncomp\"] = report.uncompressed_bytes / report.run_processor\n",
    "report[[\"column_setup\", \"n_workers\", \"event_rate\", \"data_rate_comp\", \"data_rate_uncomp\"]]"
   ]
  },
  {
   "cell_type": "code",
   "execution_count": null,
   "id": "cdc0e36b-a557-407e-98b8-9ca52360933b",
   "metadata": {},
   "outputs": [],
   "source": [
    "report.compressed_bytes / report.n_events  * report.n_columns_read"
   ]
  },
  {
   "cell_type": "code",
   "execution_count": null,
   "id": "19cd6bd7-6180-4aac-9ab7-6799cf1450dc",
   "metadata": {},
   "outputs": [],
   "source": [
    "import uproot\n",
    "uproot.__version__"
   ]
  },
  {
   "cell_type": "code",
   "execution_count": null,
   "id": "c69265f0-8a41-4014-9ecc-0f9573f173e1",
   "metadata": {},
   "outputs": [],
   "source": []
  }
 ],
 "metadata": {
  "kernelspec": {
   "display_name": "Python3 kernel (default)",
   "language": "python",
   "name": "python3"
  },
  "language_info": {
   "codemirror_mode": {
    "name": "ipython",
    "version": 3
   },
   "file_extension": ".py",
   "mimetype": "text/x-python",
   "name": "python",
   "nbconvert_exporter": "python",
   "pygments_lexer": "ipython3",
   "version": "3.10.10"
  },
  "widgets": {
   "application/vnd.jupyter.widget-state+json": {
    "state": {},
    "version_major": 2,
    "version_minor": 0
   }
  }
 },
 "nbformat": 4,
 "nbformat_minor": 5
}
