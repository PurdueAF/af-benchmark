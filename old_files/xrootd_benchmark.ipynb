{
 "cells": [
  {
   "cell_type": "code",
   "execution_count": null,
   "id": "fe4a6ae7-7c43-49da-8b8d-ccdbf5187936",
   "metadata": {
    "tags": []
   },
   "outputs": [],
   "source": [
    "from utils import get_list_of_files\n",
    "from datasets.singlemuon_at_purdue import datasets"
   ]
  },
  {
   "cell_type": "code",
   "execution_count": null,
   "id": "a6b09771-b2fd-4571-b751-4bbf84ac8b08",
   "metadata": {
    "tags": []
   },
   "outputs": [],
   "source": [
    "# get all ROOT files in datasets\n",
    "files = get_list_of_files(datasets)\n",
    "print(len(files), \"files\")"
   ]
  },
  {
   "cell_type": "code",
   "execution_count": null,
   "id": "809f66e5-3f27-45cd-bd53-332a51d6c4f1",
   "metadata": {
    "tags": []
   },
   "outputs": [],
   "source": [
    "def xrootd_process(file):\n",
    "    from XRootD import client\n",
    "    from XRootD.client.flags import OpenFlags\n",
    "    tick = time.time()\n",
    "    with client.File() as f:\n",
    "        status, response = f.open(file, OpenFlags.READ)\n",
    "        status, data = f.read() # Reads the whole file\n",
    "        server = f.get_property('DataServer')\n",
    "    tock = time.time()\n",
    "    elapsed = tock - tick\n",
    "    return pd.DataFrame([{\"server\": server, \"time\": elapsed}])"
   ]
  },
  {
   "cell_type": "code",
   "execution_count": null,
   "id": "004828f5-69d7-4847-99af-5dbe618c8783",
   "metadata": {
    "tags": []
   },
   "outputs": [],
   "source": [
    "from dask.distributed import Client, as_completed, TimeoutError, KilledWorker\n",
    "# Measure time for a list of files\n",
    "def run_benchmark_xrootd(process, files, use_dask=False, client=None):\n",
    "    \n",
    "    tick = time.time()\n",
    "\n",
    "    nevts_total = 0\n",
    "\n",
    "    xrootd_df = pd.DataFrame(columns=[\"server\", \"time\"])\n",
    "\n",
    "    if use_dask:\n",
    "        if not client:\n",
    "            raise \"Dask client is missing!\"\n",
    "        futures = client.map(process, files)\n",
    "        results = []\n",
    "        failed = 0\n",
    "        for f in futures:\n",
    "            try:\n",
    "                results.append(client.gather(f))\n",
    "            except:\n",
    "                failed += 1\n",
    "        results = client.gather(futures)\n",
    "        xrootd_df = pd.concat(results)\n",
    "        print(failed, \"failed\")\n",
    "    else:\n",
    "        for file in tqdm.tqdm(files):\n",
    "            result = xrootd_process(file)\n",
    "            xrootd_df = pd.concat([xrootd_df, result])\n",
    "        # print(xrootd_df)\n",
    "\n",
    "    tock = time.time()\n",
    "    elapsed = tock - tick\n",
    "\n",
    "    print(round(elapsed,3), \"s\")\n",
    "    xrootd_df.reset_index(inplace=True)\n",
    "    return xrootd_df\n"
   ]
  },
  {
   "cell_type": "code",
   "execution_count": null,
   "id": "2874600b-c2c1-4477-b76e-01bc54a40883",
   "metadata": {
    "tags": []
   },
   "outputs": [],
   "source": [
    "# Sequential processing\n",
    "# run_benchmark_xrootd(xrootd_process, files)"
   ]
  },
  {
   "cell_type": "code",
   "execution_count": null,
   "id": "929c499d-5c83-472f-8a28-0d143f1d679e",
   "metadata": {},
   "outputs": [],
   "source": [
    "from dask_gateway import Gateway\n",
    "gateway = Gateway()\n",
    "cluster = gateway.new_cluster(\n",
    "    worker_memory = 8,\n",
    "    queue = \"cms-express\",\n",
    "    # reservation = \"DASKTEST\",\n",
    "    env={\n",
    "        \"PYTHONPATH\": \"/depot/cms/private/users/dkondra/af-benchmark\",\n",
    "        \"X509_USER_PROXY\": \"/depot/cms/private/users/dkondra/x509up_u616617\"\n",
    "    }\n",
    ")\n",
    "cluster"
   ]
  },
  {
   "cell_type": "code",
   "execution_count": null,
   "id": "a87576fe-1dc8-4d1c-98f8-f3fe9f6896f1",
   "metadata": {},
   "outputs": [],
   "source": [
    "# Process via Dask Gateway cluster\n",
    "df = run_benchmark_xrootd(xrootd_process, files, use_dask=True, client=cluster.get_client())"
   ]
  },
  {
   "cell_type": "code",
   "execution_count": null,
   "id": "7ef5eac0-8d3c-45b4-ac5a-c0a182d6b9c1",
   "metadata": {
    "tags": []
   },
   "outputs": [],
   "source": [
    "cluster.shutdown()"
   ]
  },
  {
   "cell_type": "code",
   "execution_count": null,
   "id": "9d2ed48f-1e74-4f37-9ef0-f531356d4913",
   "metadata": {},
   "outputs": [],
   "source": [
    "gateway.list_clusters()"
   ]
  },
  {
   "cell_type": "code",
   "execution_count": null,
   "id": "d5d965f8-8ea6-4aca-836b-e3672efa81f8",
   "metadata": {},
   "outputs": [],
   "source": [
    "df"
   ]
  },
  {
   "cell_type": "code",
   "execution_count": null,
   "id": "96cd4ab7-3ba6-4aee-8585-79bdbac8e405",
   "metadata": {},
   "outputs": [],
   "source": [
    "df.groupby(\"server\").mean().sort_values(by=\"time\", ascending=False).drop(\"index\", axis=1)"
   ]
  },
  {
   "cell_type": "code",
   "execution_count": null,
   "id": "fcb9a9e8-412f-42d8-bd32-e5e12b4c02ec",
   "metadata": {
    "tags": []
   },
   "outputs": [],
   "source": [
    "df.groupby(\"server\").count().sort_values(by=\"time\", ascending=False).drop(\"index\", axis=1)"
   ]
  },
  {
   "cell_type": "code",
   "execution_count": null,
   "id": "d955edb2-daea-4e67-8682-dc2f2da5d6f5",
   "metadata": {
    "tags": []
   },
   "outputs": [],
   "source": [
    "df.loc[df.server==\"eos-a01.cms.rcac.purdue.edu:1103\", \"time\"].plot.hist()"
   ]
  },
  {
   "cell_type": "code",
   "execution_count": null,
   "id": "9b4a17a7-175b-4f72-a70f-86751e0b204b",
   "metadata": {},
   "outputs": [],
   "source": []
  }
 ],
 "metadata": {
  "kernelspec": {
   "display_name": "Python3 kernel (default)",
   "language": "python",
   "name": "python3"
  },
  "language_info": {
   "codemirror_mode": {
    "name": "ipython",
    "version": 3
   },
   "file_extension": ".py",
   "mimetype": "text/x-python",
   "name": "python",
   "nbconvert_exporter": "python",
   "pygments_lexer": "ipython3",
   "version": "3.10.10"
  },
  "widgets": {
   "application/vnd.jupyter.widget-state+json": {
    "state": {},
    "version_major": 2,
    "version_minor": 0
   }
  }
 },
 "nbformat": 4,
 "nbformat_minor": 5
}
